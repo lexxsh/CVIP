{
  "nbformat": 4,
  "nbformat_minor": 0,
  "metadata": {
    "colab": {
      "provenance": [],
      "gpuType": "T4"
    },
    "kernelspec": {
      "name": "python3",
      "display_name": "Python 3"
    },
    "accelerator": "GPU"
  },
  "cells": [
    {
      "metadata": {
        "id": "MAqp7PDJRGO4"
      },
      "cell_type": "markdown",
      "source": [
        "## 1.데이터 분석용 파이썬 패키지\n",
        "\n",
        "여러 분야 사용할 수 있는 다양한 패키지를 가지고 있다는 점은 파이썬의 큰 장점이다.  \n",
        "\n",
        "\n",
        "```\n",
        "ㅇ NumPy\n",
        "    - 수치해석 라이브러리\n",
        "    - http://www.numpy.org/\n",
        "    - 2006, Travis Oliphant\n",
        "ㅇ SciPy\n",
        "    - 과학기술 함수 라이브러리\n",
        "    - http://www.scipy.org/\n",
        "    - 2001, Travis Oliphant, Pearu Peterson\n",
        "ㅇ SymPy\n",
        "    - 심볼릭 연산 라이브러리\n",
        "    - http://www.sympy.org/\n",
        "    - 2006, Ondřej Čertík\n",
        "ㅇ Matplotlib\n",
        "    - 시각화 라이브러리, matlab 플롯 기능 구현\n",
        "    - http://matplotlib.org/\n",
        "    - 2002, John D. Hunter\n",
        "ㅇ seaborn\n",
        "    - 시각화 라이브러리. 통계용 차트 및 컬러맵 추가\n",
        "    - https://stanford.edu/~mwaskom/software/seaborn/\n",
        "    - 2012, Michael Waskom\n",
        "ㅇ bokeh\n",
        "    - 시각화 라이브러리. 웹상에서 인터액티브 플롯 구현\n",
        "    - http://bokeh.pydata.org\n",
        "    - 2012, Peter Wang\n",
        "ㅇ pandas\n",
        "    - 데이터 분석 라이브러리. R의 data.frame 자료구조 구현\n",
        "    - http://pandas.pydata.org/\n",
        "    - 2008, Wes McKinney (AQR Capital Management)\n",
        "ㅇ statsmodels\n",
        "    - 다변량 회귀 분석 및 시계열 분석 라이브러리\n",
        "    - http://statsmodels.sourceforge.net/stable/\n",
        "    - 2009, Skipper Seabold\n",
        "ㅇ scikit-learn\n",
        "    - 머신러닝 라이브러리\n",
        "    - http://scikit-learn.org\n",
        "    - 2007, David Cournapeau\n",
        "ㅇ TensorFlow\n",
        "    - 딥러닝 라이브러리\n",
        "    - https://www.tensorflow.org/\n",
        "    - 2015, google\n",
        "ㅇ Keras\n",
        "    - 고수준 딥러닝 라이브러리\n",
        "    - https://keras.io/\n",
        "    - 2015, François Chollet\n",
        "```"
      ]
    },
    {
      "metadata": {
        "id": "9uAhyj6iqoB5"
      },
      "cell_type": "markdown",
      "source": [
        "# 2.파이썬 조건문\n",
        "## if ~ else 명령\n",
        "주의할 점 : 참 또는 거짓일 때 실행되는 명령들은 앞 빈칸을 4칸 띄우고 써야 한다.\n"
      ]
    },
    {
      "metadata": {
        "id": "rKuSuA5Lqe9x",
        "outputId": "7513830e-7602-4bef-bd8b-4b60058321b3",
        "colab": {
          "base_uri": "https://localhost:8080/"
        }
      },
      "cell_type": "code",
      "source": [
        "a = 9 #@param {type:\"raw\"}\n",
        "\n",
        "if a % 2 == 0:\n",
        "    print(\"짝수\")\n",
        "else:\n",
        "    print(\"홀수\")"
      ],
      "execution_count": null,
      "outputs": [
        {
          "output_type": "stream",
          "name": "stdout",
          "text": [
            "홀수\n"
          ]
        }
      ]
    },
    {
      "metadata": {
        "id": "-zDmMXF4qu3O",
        "colab": {
          "base_uri": "https://localhost:8080/"
        },
        "outputId": "e4b4bad8-2f61-477d-f665-e9c73c91a70f"
      },
      "cell_type": "code",
      "source": [
        "b = 22 #@param {type:\"raw\"}\n",
        "\n",
        "if (b >= 10) & (b < 100) & (b % 2 == 0):\n",
        "    print(\"2자리수의 짝수이다.\")\n",
        "else:\n",
        "    print(\"2자리수의 짝수가 아니다.\")"
      ],
      "execution_count": null,
      "outputs": [
        {
          "output_type": "stream",
          "name": "stdout",
          "text": [
            "2자리수의 짝수이다.\n"
          ]
        }
      ]
    },
    {
      "metadata": {
        "id": "4r6hFWH2q1iS",
        "colab": {
          "base_uri": "https://localhost:8080/"
        },
        "outputId": "ed87cd65-8c48-4ec4-9612-7541746fc009"
      },
      "cell_type": "code",
      "source": [
        "c = 6  #@param {type:\"raw\"}\n",
        "\n",
        "if c >= 8:\n",
        "    print(\"A\")\n",
        "elif c >= 5:\n",
        "    print(\"B\")\n",
        "else:\n",
        "    print(\"C\")"
      ],
      "execution_count": null,
      "outputs": [
        {
          "output_type": "stream",
          "name": "stdout",
          "text": [
            "B\n"
          ]
        }
      ]
    },
    {
      "metadata": {
        "id": "JzOgdfjAq4Fx",
        "colab": {
          "base_uri": "https://localhost:8080/"
        },
        "outputId": "27682946-8624-4948-aea6-881e9d0fe2c0"
      },
      "cell_type": "code",
      "source": [
        "sex_cd = 'M'  #@param {type:\"raw\"}\n",
        "pushup = 8  #@param {type:\"raw\"}\n",
        "\n",
        "if sex_cd == \"M\":\n",
        "    if pushup >= 10:\n",
        "        grade = \"Pass\"\n",
        "    else:\n",
        "        grade = \"Fail\"\n",
        "else:\n",
        "    if pushup >= 5:\n",
        "      grade = \"Pass\"\n",
        "    else:\n",
        "      grade = \"Fail\"\n",
        "\n",
        "print(grade)"
      ],
      "execution_count": null,
      "outputs": [
        {
          "output_type": "stream",
          "name": "stdout",
          "text": [
            "Fail\n"
          ]
        }
      ]
    },
    {
      "metadata": {
        "id": "2KUil-IWraRH"
      },
      "cell_type": "markdown",
      "source": [
        "# 3.파이썬 함수\n",
        "**함수(function)**는 입력(input)을 받으면 그 입력에 해당하는 출력(output)을 내놓은 기계와 같다."
      ]
    },
    {
      "metadata": {
        "id": "CZQhKRKKsMqM"
      },
      "cell_type": "markdown",
      "source": [
        "## 3.1. 함수 기본\n",
        "\n",
        "예를 들어 500원을 넣으면 생수가 나오고 1000원을 넣으면 콜라가 나오는 자판기는 다음과 같은 함수이다.\n",
        "```\n",
        "f(500) = \"생수\"\n",
        "f(1000) = \"콜라\"\n",
        "```\n",
        "파이썬에는 def 키워드를 사용하여 다음과 같이 함수를 만들 수 있다."
      ]
    },
    {
      "metadata": {
        "id": "5bz2p7-qq-Cf",
        "cellView": "both"
      },
      "cell_type": "code",
      "source": [
        "def Multiple(x):\n",
        "    y = x ** 2\n",
        "    return y"
      ],
      "execution_count": 4,
      "outputs": []
    },
    {
      "metadata": {
        "id": "qB7ML2tNsBIH"
      },
      "cell_type": "markdown",
      "source": [
        "이렇게 만들어진 함수를 사용하려면 함수 이름과 그 뒤에 괄호로 싸인 입력값을 넣으면 된다."
      ]
    },
    {
      "metadata": {
        "id": "VjamQgrBsATo",
        "colab": {
          "base_uri": "https://localhost:8080/"
        },
        "outputId": "c940d9c9-5c8c-407c-cd2c-681d6f8e6dde"
      },
      "cell_type": "code",
      "source": [
        "Multiple(200)"
      ],
      "execution_count": 5,
      "outputs": [
        {
          "output_type": "execute_result",
          "data": {
            "text/plain": [
              "40000"
            ]
          },
          "metadata": {},
          "execution_count": 5
        }
      ]
    },
    {
      "metadata": {
        "id": "l7i5G-xgsFTG"
      },
      "cell_type": "markdown",
      "source": [
        "## 3.2. 다변수 함수"
      ]
    },
    {
      "metadata": {
        "id": "ZMWl8207sCuK",
        "colab": {
          "base_uri": "https://localhost:8080/"
        },
        "outputId": "26a99d41-ecc6-413b-fd63-9e6d4238d1a4"
      },
      "cell_type": "code",
      "source": [
        "def add(x, y):\n",
        "  return x + y\n",
        "\n",
        "add(1, 2)"
      ],
      "execution_count": 6,
      "outputs": [
        {
          "output_type": "execute_result",
          "data": {
            "text/plain": [
              "3"
            ]
          },
          "metadata": {},
          "execution_count": 6
        }
      ]
    },
    {
      "metadata": {
        "id": "OZs3kHVssHef",
        "colab": {
          "base_uri": "https://localhost:8080/"
        },
        "outputId": "99c53fb1-c708-4dcc-a4c9-ee09327d1a6b"
      },
      "cell_type": "code",
      "source": [
        "def sum(a, b, c):\n",
        "  s = a + b + c\n",
        "  return s\n",
        "\n",
        "sum(1, 2, 3)"
      ],
      "execution_count": 7,
      "outputs": [
        {
          "output_type": "execute_result",
          "data": {
            "text/plain": [
              "6"
            ]
          },
          "metadata": {},
          "execution_count": 7
        }
      ]
    },
    {
      "cell_type": "code",
      "source": [
        "def add_and_sub(a,b):\n",
        "    return a+b,a-b\n",
        "\n",
        "add_and_sub(4,5)   #파이썬은 동시에 여러개도 리턴이 가능하다. (튜플 형태로 반환이 된다.)"
      ],
      "metadata": {
        "colab": {
          "base_uri": "https://localhost:8080/"
        },
        "id": "iE6jyLUkie1R",
        "outputId": "c2fb667b-734e-4868-aa4a-883a580f77e3"
      },
      "execution_count": 8,
      "outputs": [
        {
          "output_type": "execute_result",
          "data": {
            "text/plain": [
              "(9, -1)"
            ]
          },
          "metadata": {},
          "execution_count": 8
        }
      ]
    },
    {
      "metadata": {
        "id": "1NKK0J9WtN4M"
      },
      "cell_type": "markdown",
      "source": [
        "## 3.3. lambda 함수\n",
        "\n",
        "함수를 딱 한 줄만으로 만들게 해주는 lambda 라는 치트도 존재한다. 사용할 때는 아래와 같이 써준다.\n",
        "```\n",
        "lambda 매개변수 : 표현식\n",
        "```\n",
        "\n",
        "다음은 두 수를 더하는 함수이다."
      ]
    },
    {
      "cell_type": "code",
      "source": [
        "def add(x, y):\n",
        "  return x + y\n",
        "\n",
        "add(10, 20)"
      ],
      "metadata": {
        "colab": {
          "base_uri": "https://localhost:8080/"
        },
        "id": "tOOkvrXzmnhu",
        "outputId": "4b74525e-8eef-41dc-9b84-6c996dc6c435"
      },
      "execution_count": null,
      "outputs": [
        {
          "output_type": "execute_result",
          "data": {
            "text/plain": [
              "30"
            ]
          },
          "metadata": {},
          "execution_count": 16
        }
      ]
    },
    {
      "cell_type": "markdown",
      "source": [
        "이것을 람다 형식으로는 다음과 같이 표현할 수 있다."
      ],
      "metadata": {
        "id": "HhR93NrUm4zr"
      }
    },
    {
      "cell_type": "code",
      "source": [
        "(lambda x,y: x + y)(10, 20)"
      ],
      "metadata": {
        "colab": {
          "base_uri": "https://localhost:8080/"
        },
        "id": "o3ro9M6fm_I4",
        "outputId": "42eb012d-57e6-4557-e787-3d7ec865b271"
      },
      "execution_count": null,
      "outputs": [
        {
          "output_type": "execute_result",
          "data": {
            "text/plain": [
              "30"
            ]
          },
          "metadata": {},
          "execution_count": 2
        }
      ]
    },
    {
      "cell_type": "markdown",
      "source": [
        "또 다른 예제는 다음과 같다."
      ],
      "metadata": {
        "id": "Z8tffBFVnCrV"
      }
    },
    {
      "metadata": {
        "id": "41G0cVIStFPJ",
        "colab": {
          "base_uri": "https://localhost:8080/"
        },
        "outputId": "6723d25e-5d8a-4a33-d3ee-41fd67154df4"
      },
      "cell_type": "code",
      "source": [
        "t = lambda x:x*2+1\n",
        "\n",
        "t(6)"
      ],
      "execution_count": null,
      "outputs": [
        {
          "output_type": "execute_result",
          "data": {
            "text/plain": [
              "13"
            ]
          },
          "metadata": {},
          "execution_count": 11
        }
      ]
    },
    {
      "metadata": {
        "id": "mE2AxnYGtSbY",
        "colab": {
          "base_uri": "https://localhost:8080/"
        },
        "outputId": "d7875895-19ae-4516-baf9-3bf5ec630944"
      },
      "cell_type": "code",
      "source": [
        "t = lambda x: print(\"test: {}\".format(x+3))\n",
        "\n",
        "t(2)"
      ],
      "execution_count": null,
      "outputs": [
        {
          "output_type": "stream",
          "name": "stdout",
          "text": [
            "test: 5\n"
          ]
        }
      ]
    },
    {
      "cell_type": "code",
      "source": [
        "x = 5\n",
        "y=10\n",
        "print(\"x is : {}\".format(x))\n",
        "print(f'y is : {y}')"
      ],
      "metadata": {
        "colab": {
          "base_uri": "https://localhost:8080/"
        },
        "id": "85J6mrTgjVML",
        "outputId": "b5bade12-3208-4223-bed7-68fb28a20f57"
      },
      "execution_count": null,
      "outputs": [
        {
          "output_type": "stream",
          "name": "stdout",
          "text": [
            "x is : 5\n",
            "y is : 10\n"
          ]
        }
      ]
    },
    {
      "metadata": {
        "id": "H1IKxy2PvJSF"
      },
      "cell_type": "markdown",
      "source": [
        "# 4.파이썬 반복문"
      ]
    },
    {
      "metadata": {
        "id": "0zEbnL0suc-j"
      },
      "cell_type": "markdown",
      "source": [
        "## 4.1. for 반복문\n",
        "\n",
        "다음과 같은 문자를 반복적으로 출력해야한다고 가정하자.\n",
        "```\n",
        "=0=\n",
        "=1=\n",
        "=2=\n",
        "=3=\n",
        "=4=\n",
        "=5=\n",
        "=6=\n",
        "=7=\n",
        "=8=\n",
        "=9=\n",
        "```\n",
        "\n",
        "이를 위해서 다음과 같이 print 문을 반복적으로 사용할 수도 있을 것이다.\n",
        "\n",
        "```\n",
        "print(\"=1=\")  \n",
        "print(\"=2=\")  \n",
        "print(\"=3=\")  \n",
        "print(\"=4=\")  \n",
        "print(\"=5=\")  \n",
        "print(\"=6=\")  \n",
        "print(\"=7=\")  \n",
        "print(\"=8=\")  \n",
        "print(\"=9=\")\n",
        "```"
      ]
    },
    {
      "metadata": {
        "id": "dMIQo6FUuy19"
      },
      "cell_type": "markdown",
      "source": [
        "for 문을 이용하면 코드가 다음과 같이 가벼워진다."
      ]
    },
    {
      "metadata": {
        "id": "XLAqC3ABu4N0",
        "colab": {
          "base_uri": "https://localhost:8080/"
        },
        "outputId": "f087cb06-d901-422c-ecb2-af470f963d8b"
      },
      "cell_type": "code",
      "source": [
        "for i in range(10):\n",
        "    print(\"=\" + str(i) + \"=\")"
      ],
      "execution_count": null,
      "outputs": [
        {
          "output_type": "stream",
          "name": "stdout",
          "text": [
            "=0=\n",
            "=1=\n",
            "=2=\n",
            "=3=\n",
            "=4=\n",
            "=5=\n",
            "=6=\n",
            "=7=\n",
            "=8=\n",
            "=9=\n"
          ]
        }
      ]
    },
    {
      "metadata": {
        "id": "IgLTny_zu-fT"
      },
      "cell_type": "markdown",
      "source": [
        "뒤에 배우겠지만, for 문은 list 형 자료 작성 시에도 활용 가능하다."
      ]
    },
    {
      "metadata": {
        "id": "SazRe9Seu538",
        "colab": {
          "base_uri": "https://localhost:8080/"
        },
        "outputId": "6f5b814d-57db-4e38-cacb-6bc6818a8a8a"
      },
      "cell_type": "code",
      "source": [
        "x = [i ** 2 for i in range(10)]\n",
        "\n",
        "x"
      ],
      "execution_count": null,
      "outputs": [
        {
          "output_type": "execute_result",
          "data": {
            "text/plain": [
              "[0, 1, 4, 9, 16, 25, 36, 49, 64, 81]"
            ]
          },
          "metadata": {},
          "execution_count": 1
        }
      ]
    },
    {
      "metadata": {
        "id": "IbfuAsM_vF7A"
      },
      "cell_type": "markdown",
      "source": [
        "for 반복문과 문자열 연산을 사용하여 다음과 같이 인쇄한다.\n",
        "\n",
        "\n",
        "```\n",
        " *\n",
        " **\n",
        " ***\n",
        " ****\n",
        " *****\n",
        " ******\n",
        " *******\n",
        " ********\n",
        " *********\n",
        " **********\n",
        "```"
      ]
    },
    {
      "metadata": {
        "id": "hwOuQC8iu8cE",
        "colab": {
          "base_uri": "https://localhost:8080/"
        },
        "outputId": "926d2209-3261-4bcd-9f58-428aaf3e8a0e"
      },
      "cell_type": "code",
      "source": [
        "for i in range(10):\n",
        "    print(\"*\" * i)"
      ],
      "execution_count": null,
      "outputs": [
        {
          "output_type": "stream",
          "name": "stdout",
          "text": [
            "\n",
            "*\n",
            "**\n",
            "***\n",
            "****\n",
            "*****\n",
            "******\n",
            "*******\n",
            "********\n",
            "*********\n"
          ]
        }
      ]
    },
    {
      "metadata": {
        "id": "voZ47Jj0vi_g"
      },
      "cell_type": "markdown",
      "source": [
        "for 반복문과 문자열 연산, if 조건문을 사용하여 다음과 같이 인쇄한다.\n",
        "```\n",
        "      *\n",
        "     ***\n",
        "    *****\n",
        "   *******\n",
        "  *********\n",
        " ***********\n",
        "  *********\n",
        "   *******\n",
        "    *****\n",
        "     ***\n",
        "      *\n",
        "```"
      ]
    },
    {
      "metadata": {
        "id": "cLKKyBU3vf46",
        "colab": {
          "base_uri": "https://localhost:8080/"
        },
        "outputId": "c37856be-51d6-4887-8ea3-1e08e83ea450"
      },
      "cell_type": "code",
      "source": [
        "for i in range(11):\n",
        "    if i <= 5 :\n",
        "        print(\" \" * (5 - i) + \"*\" * (i * 2 + 1) )\n",
        "    else :\n",
        "        print(\" \" * (i - 5) + \"*\" * ((10 - i) * 2 + 1))"
      ],
      "execution_count": null,
      "outputs": [
        {
          "output_type": "stream",
          "name": "stdout",
          "text": [
            "     *\n",
            "    ***\n",
            "   *****\n",
            "  *******\n",
            " *********\n",
            "***********\n",
            " *********\n",
            "  *******\n",
            "   *****\n",
            "    ***\n",
            "     *\n"
          ]
        }
      ]
    },
    {
      "metadata": {
        "id": "8NkdoS2yvpdp"
      },
      "cell_type": "markdown",
      "source": [
        "## 4.2. 중첩 for 반복문\n",
        "\n",
        "```\n",
        " 0 1 2 3\n",
        " 1 2 3 4\n",
        " 2 3 4 5\n",
        " 3 4 5 6\n",
        "```"
      ]
    },
    {
      "metadata": {
        "id": "YyFQSmiSvnF7",
        "colab": {
          "base_uri": "https://localhost:8080/"
        },
        "outputId": "4e1092a8-6075-4947-f0c4-6600129a4f96"
      },
      "cell_type": "code",
      "source": [
        "for i in range(4):\n",
        "    for j in range(4):\n",
        "        print(i + j, end=\" \")"
      ],
      "execution_count": null,
      "outputs": [
        {
          "output_type": "stream",
          "name": "stdout",
          "text": [
            "0 1 2 3 1 2 3 4 2 3 4 5 3 4 5 6 "
          ]
        }
      ]
    },
    {
      "metadata": {
        "id": "8cv8qsiJvvr2",
        "colab": {
          "base_uri": "https://localhost:8080/"
        },
        "outputId": "560170c6-7e80-4fb3-f8f0-45ce2ad61414"
      },
      "cell_type": "code",
      "source": [
        "for i in range(4):\n",
        "    for j in range(4):\n",
        "        print(i + j, end=\" \")\n",
        "    print()"
      ],
      "execution_count": null,
      "outputs": [
        {
          "output_type": "stream",
          "name": "stdout",
          "text": [
            "0 1 2 3 \n",
            "1 2 3 4 \n",
            "2 3 4 5 \n",
            "3 4 5 6 \n"
          ]
        }
      ]
    },
    {
      "metadata": {
        "id": "dFR1jvEExIol"
      },
      "cell_type": "markdown",
      "source": [
        "## 4.3. while 반복문\n",
        "\n",
        "반복해서 문장을 수행해야 할 경우 **while문**을 사용한다. 그래서 while문을 반복문이라고도 부른다.\n",
        "\n",
        "다음은 while문의 기본 구조이다.\n",
        "\n",
        "```\n",
        "while <조건문>:\n",
        "    <수행할 문장1>\n",
        "    <수행할 문장2>\n",
        "    <수행할 문장3>\n",
        "...\n",
        "```\n",
        "\n",
        "while문은 조건문이 참인 동안에 while문 아래에 속하는 문장들이 반복해서 수행된다."
      ]
    },
    {
      "metadata": {
        "id": "nfDjsn_qxRQu"
      },
      "cell_type": "markdown",
      "source": [
        "\"열 번 찍어 안 넘어 가는 나무 없다\" 라는 속담을 파이썬 프로그램으로 만든다면 다음과 같이 될 것이다."
      ]
    },
    {
      "metadata": {
        "id": "cq36BMsvwpzA",
        "colab": {
          "base_uri": "https://localhost:8080/"
        },
        "outputId": "d853b098-503f-4a9b-e305-a39219d79095"
      },
      "cell_type": "code",
      "source": [
        "treeHit = 0 #@param {type:\"raw\"}\n",
        "\n",
        "while treeHit < 10:\n",
        "    treeHit = treeHit +1\n",
        "    print(\"나무를 %d번 찍었습니다.\" % treeHit)\n",
        "    if treeHit == 10:\n",
        "        print(\"나무 넘어갑니다.\")"
      ],
      "execution_count": null,
      "outputs": [
        {
          "output_type": "stream",
          "name": "stdout",
          "text": [
            "나무를 1번 찍었습니다.\n",
            "나무를 2번 찍었습니다.\n",
            "나무를 3번 찍었습니다.\n",
            "나무를 4번 찍었습니다.\n",
            "나무를 5번 찍었습니다.\n",
            "나무를 6번 찍었습니다.\n",
            "나무를 7번 찍었습니다.\n",
            "나무를 8번 찍었습니다.\n",
            "나무를 9번 찍었습니다.\n",
            "나무를 10번 찍었습니다.\n",
            "나무 넘어갑니다.\n"
          ]
        }
      ]
    },
    {
      "metadata": {
        "id": "KG8T7BjYxafk"
      },
      "cell_type": "markdown",
      "source": [
        "위의 예에서 while문의 조건문은 treeHit < 10 이다.\n",
        "\n",
        "즉, treeHit가 10보다 작은 동안에 while문 안의 문장들을 계속 수행한다. whlie문 안의 문장을 보면 제일 먼저 treeHit = treeHit + 1로 treeHit 값이 계속 1씩 증가한다. 그리고 나무를 treeHit번만큼 찍었음을 알리는 문장을 출력하고 treeHit가 10이 되면 \"나무 넘어갑니다.\"라는 문장을 출력한다. 그러고 나면 treeHit < 10 이라는 조건문이 거짓이 되므로 while문을 빠져나가게 된다.\n",
        "\n",
        "(※ treeHit = treeHit + 1 은 프로그래밍을 할 때 매우 자주 사용하는 기법이다. treeHit의 값을 1만큼씩 증가시킬 목적으로 사용되며, treeHit +=1 처럼 사용되기도 한다.)\n",
        "\n",
        "다음을 직접 입력해 보자. 여러 가지 선택지 중 하나를 선택해서 입력받는 예제이다. 먼저 다음과 같이 여러 줄짜리 문자열을 만들어 보자.\n",
        "\n"
      ]
    },
    {
      "metadata": {
        "id": "T0VoOjKKxWst"
      },
      "cell_type": "code",
      "source": [
        "prompt = \"\"\"\n",
        "1. Add\n",
        "2. Del\n",
        "3. List\n",
        "4. Quit\n",
        "Enter number:\n",
        "\"\"\""
      ],
      "execution_count": 9,
      "outputs": []
    },
    {
      "metadata": {
        "id": "P71-q4Bkxcnd",
        "colab": {
          "base_uri": "https://localhost:8080/"
        },
        "outputId": "6e7392c2-b80c-4742-efae-22c0dbb08b72"
      },
      "cell_type": "code",
      "source": [
        "number = 0\n",
        "\n",
        "while number != 4:\n",
        "    print(prompt)\n",
        "    number = int(input())\n",
        "    if(number == 1):\n",
        "        print(\"Add\")\n",
        "    elif(number == 2):\n",
        "        print(\"Del\")\n",
        "    elif(number == 3):\n",
        "        print(\"List\")\n",
        "    elif(number == 4):\n",
        "        print(\"Program End\")\n",
        "        break"
      ],
      "execution_count": 15,
      "outputs": [
        {
          "output_type": "stream",
          "name": "stdout",
          "text": [
            "\n",
            "1. Add\n",
            "2. Del\n",
            "3. List\n",
            "4. Quit\n",
            "Enter number:\n",
            "\n",
            "4\n",
            "Program End\n"
          ]
        }
      ]
    },
    {
      "metadata": {
        "id": "46jHgKjXxias"
      },
      "cell_type": "markdown",
      "source": [
        "### 4.3.1. while문 강제로 빠져나가기\n",
        "\n",
        "while문은 조건문이 참인 동안 계속해서 while문 안의 내용을 반복적으로 수행한다. 하지만 강제로 while문을 빠져나가고 싶을 때가 있다. 예를 들어 커피 자판기를 생각해 보자. 자판기 안에 커피가 충분히 있을 때에는 동전을 넣으면 커피가 나온다. 그런데 자판기가 제대로 작동하려면 커피가 얼마나 남았는지 항상 검사해야 한다. 만약 커피가 떨어졌다면 판매를 중단하고 \"판매 중지\"라는 문구를 사용자에게 보여주어야 한다.\n",
        "\n",
        "이렇게 판매를 강제로 멈추게 하는 것이 바로 **break문**이다.\n",
        "\n",
        "다음의 예는 커피 자판기 이야기를 파이썬 프로그램으로 표현해 본 것이다."
      ]
    },
    {
      "metadata": {
        "id": "SFxhyiMzxeey",
        "colab": {
          "base_uri": "https://localhost:8080/"
        },
        "outputId": "a2719052-cea0-4fd1-b8c9-18deb76ecc9e"
      },
      "cell_type": "code",
      "source": [
        "coffee = 5 #@param {type:\"raw\"}\n",
        "money = 300 #@param {type:\"raw\"}\n",
        "\n",
        "while money:\n",
        "    print(\"돈을 받았으니 커피를 줍니다.\")\n",
        "    coffee = coffee -1\n",
        "    print(\"남은 커피의 양은 %d개입니다.\" % coffee)\n",
        "    if not coffee:\n",
        "        print(\"커피가 다 떨어졌습니다. 판매를 중지합니다.\")\n",
        "        break"
      ],
      "execution_count": null,
      "outputs": [
        {
          "output_type": "stream",
          "name": "stdout",
          "text": [
            "돈을 받았으니 커피를 줍니다.\n",
            "남은 커피의 양은 4개입니다.\n",
            "돈을 받았으니 커피를 줍니다.\n",
            "남은 커피의 양은 3개입니다.\n",
            "돈을 받았으니 커피를 줍니다.\n",
            "남은 커피의 양은 2개입니다.\n",
            "돈을 받았으니 커피를 줍니다.\n",
            "남은 커피의 양은 1개입니다.\n",
            "돈을 받았으니 커피를 줍니다.\n",
            "남은 커피의 양은 0개입니다.\n",
            "커피가 다 떨어졌습니다. 판매를 중지합니다.\n"
          ]
        }
      ]
    },
    {
      "metadata": {
        "id": "1B3f3rUvxsnc",
        "colab": {
          "base_uri": "https://localhost:8080/"
        },
        "outputId": "bdda4e76-5842-4cbc-e7ac-e4b8c0e50c6b"
      },
      "cell_type": "code",
      "source": [
        "coffee = 5 #@param {type:\"raw\"}\n",
        "\n",
        "while True:\n",
        "    money = int(input(\"돈을 넣어 주세요: \"))\n",
        "    if money == 300:\n",
        "        print(\"커피를 줍니다.\")\n",
        "        coffee = coffee -1\n",
        "    elif money > 300:\n",
        "        print(\"거스름돈 %d를 주고 커피를 줍니다.\" % (money -300))\n",
        "        coffee = coffee -1\n",
        "    else:\n",
        "        print(\"돈을 다시 돌려주고 커피를 주지 않습니다.\")\n",
        "        print(\"남은 커피의 양은 %d개 입니다.\" % coffee)\n",
        "    if not coffee:\n",
        "        print(\"커피가 다 떨어졌습니다. 판매를 중지 합니다.\")\n",
        "        break"
      ],
      "execution_count": null,
      "outputs": [
        {
          "output_type": "stream",
          "name": "stdout",
          "text": [
            "돈을 넣어 주세요: 500\n",
            "거스름돈 200를 주고 커피를 줍니다.\n",
            "돈을 넣어 주세요: 700\n",
            "거스름돈 400를 주고 커피를 줍니다.\n",
            "돈을 넣어 주세요: 300\n",
            "커피를 줍니다.\n",
            "돈을 넣어 주세요: 900\n",
            "거스름돈 600를 주고 커피를 줍니다.\n",
            "돈을 넣어 주세요: 300\n",
            "커피를 줍니다.\n",
            "커피가 다 떨어졌습니다. 판매를 중지 합니다.\n"
          ]
        }
      ]
    },
    {
      "metadata": {
        "id": "kHwCLj2ix4Yn"
      },
      "cell_type": "markdown",
      "source": [
        "### 4.3.2. 조건에 맞지 않는 경우 맨 처음으로 돌아가기\n",
        "\n",
        "while문 안의 문장을 수행할 때 입력된 조건을 검사해서 조건에 맞지 않으면 while문을 빠져나간다. 그런데 프로그래밍을 하다 보면 while문을 빠져나가지 않고 while문의 맨 처음(조건문)으로 다시 돌아가게 만들고 싶은 경우가 생기게 된다. 이때 사용하는 것이 바로 continue문이다.\n",
        "\n",
        "만약 1부터 10까지의 숫자 중에서 홀수만 출력하는 것을 while문을 이용해서 작성한다고 생각해 보자."
      ]
    },
    {
      "metadata": {
        "id": "vBxV89TkxurU",
        "colab": {
          "base_uri": "https://localhost:8080/"
        },
        "outputId": "15ac3fdb-598c-4a42-d6f7-f397cbb49e5b"
      },
      "cell_type": "code",
      "source": [
        "a = 0\n",
        "\n",
        "while a < 10:\n",
        "    a = a + 1\n",
        "    if a % 2 == 0: continue\n",
        "    print(a)"
      ],
      "execution_count": null,
      "outputs": [
        {
          "output_type": "stream",
          "name": "stdout",
          "text": [
            "1\n",
            "3\n",
            "5\n",
            "7\n",
            "9\n"
          ]
        }
      ]
    }
  ]
}