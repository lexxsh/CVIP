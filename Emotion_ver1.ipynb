{
  "cells": [
    {
      "cell_type": "code",
      "execution_count": null,
      "metadata": {
        "id": "tc_8zOZwvaZU"
      },
      "outputs": [],
      "source": [
        "import torch\n",
        "import torch.nn as nn  # 신경망 모듈, 구축 및 훈련에 사용\n",
        "from torch.utils.data.dataset import Dataset # 사용자 정의 데이터 셋을 만들어 딥러닝을 할 수 있게 함\n",
        "import torchvision.transforms as T # 이미지 전처리에 필요한 transform 사용\n",
        "from torch.utils.data import DataLoader # 데이터 관리에 필요한 dataloader\n",
        "import torch.nn.functional as F # loss or cost gradient와 같은 여러 함수를 사용할 수 있음\n",
        "from sklearn.metrics import f1_score, confusion_matrix # f1 score와 행렬을 계산 -> 모델의 성능 평가\n",
        "import pandas as pd # pandas를 사용한 데이터 조작 및 분석\n",
        "import numpy as np # numpy 사용\n",
        "import matplotlib.pyplot as plt #시각화를 위한 차트 사용\n",
        "from matplotlib import pyplot as plt\n",
        "import seaborn as sns\n",
        "!pip install torchinfo\n",
        "from torchinfo import summary"
      ]
    },
    {
      "cell_type": "code",
      "execution_count": null,
      "metadata": {
        "id": "G_dSxsf8w5HG"
      },
      "outputs": [],
      "source": [
        "from google.colab import drive\n",
        "drive.mount('/content/drive')"
      ]
    },
    {
      "cell_type": "code",
      "execution_count": null,
      "metadata": {
        "id": "LFoEWE8pw6Lg"
      },
      "outputs": [],
      "source": [
        "fer2013_dataset_file_path = '/content/drive/MyDrive/Colab Notebooks/fer2013.csv'"
      ]
    },
    {
      "cell_type": "code",
      "execution_count": null,
      "metadata": {
        "id": "UExfH0b7xENH"
      },
      "outputs": [],
      "source": [
        "# 7개 감정을 각 요소로 가지는 클래스 레이블 정의\n",
        "CLASS_LABELS  = ['Anger', 'Disgust', 'Fear', 'Happy', 'Neutral', 'Sadness', \"Surprise\"]\n",
        "NUM_CLASSES = len(CLASS_LABELS) # 변수에 7개 저장\n",
        "#dictionary -> Class index, label을 각각 연결하여서 매핑정보를 형성하는데 유용\n",
        "label_dict = {i:CLASS_LABELS[i] for i in np.arange(NUM_CLASSES)}"
      ]
    },
    {
      "cell_type": "code",
      "execution_count": null,
      "metadata": {
        "id": "WwlWmkBAxVb5"
      },
      "outputs": [],
      "source": [
        "df = pd.read_csv(fer2013_dataset_file_path) #pandas를 사용하여 csv에서 데이터를 읽음 -> 데이터프레임으로 변환\n",
        "df #데이터프레임에서 반환"
      ]
    },
    {
      "cell_type": "code",
      "execution_count": null,
      "metadata": {
        "id": "2kehLAj8xVyB"
      },
      "outputs": [],
      "source": [
        "df.groupby('Usage').size().plot(kind='barh', color=sns.palettes.mpl_palette('Dark2'))\n",
        "plt.gca().spines[['top', 'right',]].set_visible(False)"
      ]
    },
    {
      "cell_type": "markdown",
      "metadata": {
        "id": "l3aFNgS5_L-Q"
      },
      "source": [
        "df.groupby('Usage').size(): 'Usage' 열을 기준으로 데이터프레임을 그룹화하고, 각 그룹의 크기(빈도)를 계산합니다.\n",
        "\n",
        ".plot(kind='barh', color=sns.palettes.mpl_palette('Dark2')): 그룹화된 크기를 수평 막대 그래프로 시각화합니다. kind='barh'는 수평 막대 그래프를 생성하라는 옵션이며, color=sns.palettes.mpl_palette('Dark2')는 Seaborn 팔레트에서 'Dark2' 색상을 사용하여 막대의 색을 지정합니다.\n",
        "\n",
        "\n",
        "plt.gca().spines[['top', 'right',]].set_visible(False): 그래프의 상단과 오른쪽 테두리를 제거합니다. plt.gca()는 현재 축(axes)을 가져오는 함수이고, spines[['top', 'right',]].set_visible(False)는 상단과 오른쪽 테두리를 숨김 처리합니다."
      ]
    },
    {
      "cell_type": "code",
      "execution_count": null,
      "metadata": {
        "id": "2uYopYy5xY9Y"
      },
      "outputs": [],
      "source": [
        "plt.figure(figsize=(10,6))\n",
        "plt.bar(CLASS_LABELS, [df['emotion'].tolist().count(i) for i in np.arange(NUM_CLASSES)])\n",
        "plt.xlabel('Emotions')\n",
        "plt.ylabel('# of samples')\n",
        "plt.title('Distribution of labels')\n",
        "plt.show()"
      ]
    },
    {
      "cell_type": "markdown",
      "metadata": {
        "id": "unwTrHhV_jFF"
      },
      "source": [
        "## 각 클래스 레이블에 해당하는 샘플의 분포를 차트로 시각화"
      ]
    },
    {
      "cell_type": "code",
      "execution_count": null,
      "metadata": {
        "id": "t6DRjXoVxqel"
      },
      "outputs": [],
      "source": [
        "pixels = df['pixels'] # pixels 열을 선택 후 변수 pixels에 저장\n",
        "pixels = pixels.apply(lambda x: x.split(\" \")).tolist() #각 이미지의 픽셀 값을 공백으로 분리, 리스트 변환\n",
        "pixels = np.uint8(pixels) # 픽셀 값을 정수로 변환\n",
        "pixels = torch.Tensor(pixels) # Numpy -> Tensor\n",
        "pixels = torch.reshape(pixels, (pixels.shape[0], 1, 48, 48)) # 이미지 개수, 채널 수, 높이, 너비로 조정 1채널, 48X48\n",
        "train_idx = df.index[df['Usage'] == 'Training'].tolist() # Usage 열이 Trainning인 행의 인덱스\n",
        "val_idx   = df.index[df['Usage'] == 'PublicTest'].tolist() # PublicTest 인덱스\n",
        "test_idx  = df.index[df['Usage'] == 'PrivateTest'].tolist() # Private Test 인덱스를 가져온다\n",
        "\n",
        "X_train = pixels[train_idx]\n",
        "y_train = torch.Tensor(df.iloc[train_idx]['emotion'].tolist())\n",
        "X_val = pixels[val_idx]\n",
        "y_val = torch.Tensor(df.iloc[val_idx]['emotion'].tolist())\n",
        "X_test = pixels[test_idx]\n",
        "y_test = torch.Tensor(df.iloc[test_idx]['emotion'].tolist())\n",
        "print(f'Train set shape: {list(X_train.shape)}, labels shape: {list(y_train.shape)}')\n",
        "print(f'Validation set shape: {list(X_val.shape)}, labels shape: {list(y_val.shape)}')\n",
        "print(f'Test set shape: {list(X_test.shape)}, labels shape: {list(y_test.shape)}')\n",
        "\n",
        "# 레이블 모양 출력\n",
        "# 각각 데이터셋들 사진 확인\n",
        "\n",
        "# Train set\n",
        "f, axarr = plt.subplots(3,5, figsize=(10,6))\n",
        "\n",
        "for i in range(3):\n",
        "    for j in range(5):\n",
        "        axarr[i,j].imshow(X_train[5*i+j].squeeze(), cmap='gray')\n",
        "        axarr[i,j].set_title(label_dict[int(y_train[5*i+j])])\n",
        "        axarr[i,j].set_xticks([])\n",
        "        axarr[i,j].set_yticks([])\n",
        "plt.suptitle('Train set', fontsize=18)\n",
        "plt.show()\n",
        "\n",
        "# Validation set\n",
        "f, axarr = plt.subplots(3,5, figsize=(10,6))\n",
        "\n",
        "for i in range(3):\n",
        "    for j in range(5):\n",
        "        axarr[i,j].imshow(X_val[5*i+j].squeeze(), cmap='gray')\n",
        "        axarr[i,j].set_title(label_dict[int(y_val[5*i+j])])\n",
        "        axarr[i,j].set_xticks([])\n",
        "        axarr[i,j].set_yticks([])\n",
        "plt.suptitle('Validation set', fontsize=18)\n",
        "plt.show()\n",
        "\n",
        "# Test set\n",
        "f, axarr = plt.subplots(3,5, figsize=(10,6))\n",
        "\n",
        "for i in range(3):\n",
        "    for j in range(5):\n",
        "        axarr[i,j].imshow(X_test[5*i+j].squeeze(), cmap='gray') \n",
        "        axarr[i,j].set_title(label_dict[int(y_test[5*i+j])])\n",
        "        axarr[i,j].set_xticks([])\n",
        "        axarr[i,j].set_yticks([])\n",
        "plt.suptitle('Test set', fontsize=18)\n",
        "plt.show()"
      ]
    },
    {
      "cell_type": "code",
      "execution_count": null,
      "metadata": {
        "id": "FycG8QoTx251"
      },
      "outputs": [],
      "source": [
        "class tensorDataset(Dataset):\n",
        "\n",
        "# 클래스 생성자 -> 이미지 텐서, 레이블 텐서, 데이터 증강 적용 여부인 train\n",
        "    def __init__(self, images, labels, train:bool):\n",
        "        self.images = images/255\n",
        "        self.labels = labels\n",
        "        self.train  = train\n",
        "\n",
        "# 이미지와 레이블을 반환 trainsform 함수로 이미지 Augmentation 적용\n",
        "    def __getitem__(self, index):\n",
        "\n",
        "        # Load the image (as tensor)\n",
        "        img  = self.images[index]\n",
        "        label = self.labels[index]\n",
        "\n",
        "        # Apply transformations\n",
        "        if self.train == True:\n",
        "            img = self.transform(img)\n",
        "\n",
        "        # Turn on gradient for image\n",
        "        img = img.detach().clone().requires_grad_(True)\n",
        "\n",
        "        return img, label\n",
        "\n",
        "# 데이터 셋의 전체 길이 반환\n",
        "    def __len__(self):\n",
        "        return len(self.images)\n",
        "\n",
        "# 이미지에 변환주기 -> Augmentation\n",
        "    def transform(self, img):\n",
        "        # 좌우 반전\n",
        "        if np.random.rand() < 0.3:\n",
        "            t_horizontal_flip = T.RandomHorizontalFlip(p=1)\n",
        "            img = t_horizontal_flip(img)\n",
        "\n",
        "        # 상하 반전\n",
        "        if np.random.rand() < 0.3:\n",
        "            t_vertical_flip = T.RandomVerticalFlip(p=1)\n",
        "            img = t_vertical_flip(img)\n",
        "\n",
        "        # 각도 조절\n",
        "        if np.random.rand() < 0.3:\n",
        "            t_rotation = T.RandomRotation(degrees=(-20, 20))\n",
        "            img = t_rotation(img)\n",
        "\n",
        "        return img"
      ]
    },
    {
      "cell_type": "code",
      "execution_count": null,
      "metadata": {
        "id": "xsQ8WNut1YdP"
      },
      "outputs": [],
      "source": [
        "# 각 데이터셋들에 대한 Tensor 형태 데이터넷 생성 + Dataloader 생성, 배치 크기에 따른 미니배치 적용\n",
        "\n",
        "def create_dataloaders(batch_size, X_train, y_train, X_val, y_val, X_test=None, y_test=None):\n",
        "\n",
        "    train_dataset = tensorDataset(X_train, y_train, train=True)\n",
        "    val_dataset   = tensorDataset(X_val, y_val, train=False)\n",
        "\n",
        "    train_dataloader = DataLoader(train_dataset, batch_size=BATCH_SIZE, shuffle=True)\n",
        "    val_dataloader   = DataLoader(val_dataset  , batch_size=BATCH_SIZE, shuffle=False)\n",
        "\n",
        "    if X_test is not None:\n",
        "        test_dataset  = tensorDataset(X_test, y_test, train=False)\n",
        "        test_dataloader  = DataLoader(test_dataset , batch_size=BATCH_SIZE, shuffle=False)\n",
        "        return train_dataloader, val_dataloader, test_dataloader\n",
        "\n",
        "    return train_dataloader, val_dataloader"
      ]
    },
    {
      "cell_type": "code",
      "execution_count": null,
      "metadata": {
        "id": "TnWmpsGo1eRT"
      },
      "outputs": [],
      "source": [
        "class ED_model(nn.Module):\n",
        "    def __init__(self, in_channels=1, out_channels=7):\n",
        "        super(ED_model, self).__init__()\n",
        "\n",
        "        self.conv1 = nn.Conv2d(in_channels=in_channels, out_channels=16, kernel_size=3, stride=1, padding='same', bias=False)\n",
        "        self.bn1 = nn.BatchNorm2d(16)\n",
        "        self.dropout1 = nn.Dropout(p=0.3)\n",
        "\n",
        "        self.conv2 = nn.Conv2d(in_channels=16, out_channels=64, kernel_size=3, stride=1, padding='same', bias=False)\n",
        "        self.bn2 = nn.BatchNorm2d(64)\n",
        "        self.dropout2 = nn.Dropout(p=0.3)\n",
        "\n",
        "        self.conv3 = nn.Conv2d(in_channels=64, out_channels=128, kernel_size=3, stride=1, padding='same', bias=False)\n",
        "        self.bn3 = nn.BatchNorm2d(128)\n",
        "        self.max_pool1 = nn.MaxPool2d(kernel_size=2, stride=2) # 48x48 -> 24x24\n",
        "        self.dropout3 = nn.Dropout(p=0.3)\n",
        "\n",
        "        self.conv4 = nn.Conv2d(in_channels=128, out_channels=128, kernel_size=3, stride=1, padding='same', bias=False)\n",
        "        self.bn4 = nn.BatchNorm2d(128)\n",
        "        self.dropout4 = nn.Dropout(p=0.3)\n",
        "\n",
        "        self.conv5 = nn.Conv2d(in_channels=128, out_channels=128, kernel_size=3, stride=1, padding='same', bias=False)\n",
        "        self.bn5 = nn.BatchNorm2d(128)\n",
        "        self.dropout5 = nn.Dropout(p=0.3)\n",
        "\n",
        "        self.conv6 = nn.Conv2d(in_channels=128, out_channels=128, kernel_size=3, stride=1, padding='same', bias=False)\n",
        "        self.bn6 = nn.BatchNorm2d(128)\n",
        "        self.max_pool2 = nn.MaxPool2d(kernel_size=2, stride=2) # 24x24 -> 12x12\n",
        "        self.dropout6 = nn.Dropout(p=0.3)\n",
        "\n",
        "        self.conv7 = nn.Conv2d(in_channels=128, out_channels=64, kernel_size=3, stride=1, padding='same', bias=False)\n",
        "        self.bn7 = nn.BatchNorm2d(64)\n",
        "        self.dropout7 = nn.Dropout(p=0.3)\n",
        "\n",
        "        self.conv8 = nn.Conv2d(in_channels=64, out_channels=16, kernel_size=3, stride=1, padding='same', bias=False)\n",
        "        self.bn8 = nn.BatchNorm2d(16)\n",
        "        self.max_pool3 = nn.MaxPool2d(kernel_size=2, stride=2) # 12x12 -> 6x6\n",
        "        self.dropout8 = nn.Dropout(p=0.3)\n",
        "\n",
        "        self.fc1 = nn.Linear(in_features=6*6*16, out_features=256)\n",
        "        self.fc2 = nn.Linear(in_features=256, out_features=32)\n",
        "        self.fc3 = nn.Linear(32, out_channels)\n",
        "\n",
        "\n",
        "    def forward(self, x):\n",
        "\n",
        "        x = self.conv1(x)\n",
        "        x = self.bn1(x)\n",
        "        x = F.relu(x)\n",
        "        x = self.dropout1(x) # <- block 1\n",
        "        x = self.conv2(x)\n",
        "        x = self.bn2(x)\n",
        "        x = F.relu(x)\n",
        "        x = self.dropout2(x) # <- block 2\n",
        "        x = self.conv3(x)\n",
        "        x = self.bn3(x)\n",
        "        x = F.relu(x)\n",
        "        x = self.max_pool1(x)\n",
        "        x = self.dropout3(x) # <- block 3\n",
        "\n",
        "        x = self.conv4(x)\n",
        "        x = self.bn4(x)\n",
        "        x = F.relu(x)\n",
        "        x = self.dropout4(x) # <- block 4\n",
        "        x = self.conv5(x)\n",
        "        x = self.bn5(x)\n",
        "        x = F.relu(x)\n",
        "        x = self.dropout5(x) # <- block 5\n",
        "        x = self.conv6(x)\n",
        "        x = self.bn6(x)\n",
        "        x = F.relu(x)\n",
        "        x = self.max_pool2(x)\n",
        "        x = self.dropout6(x) # <- block 6\n",
        "\n",
        "        x = self.conv7(x)\n",
        "        x = self.bn7(x)\n",
        "        x = F.relu(x)\n",
        "        x = self.dropout7(x) # <- block 7\n",
        "        x = self.conv8(x)\n",
        "        x = self.bn8(x)\n",
        "        x = F.relu(x)\n",
        "        x = self.max_pool3(x)\n",
        "        x = self.dropout8(x) # <- block 8\n",
        "\n",
        "        x = torch.flatten(x, start_dim=1)\n",
        "        x = self.fc1(x)\n",
        "        x = F.relu(x)\n",
        "        x = self.fc2(x)\n",
        "        x = F.relu(x)\n",
        "        x = self.fc3(x)\n",
        "        x = F.softmax(x, dim=1)\n",
        "\n",
        "        return x"
      ]
    },
    {
      "cell_type": "markdown",
      "metadata": {
        "id": "BDv4o6RzCBqq"
      },
      "source": [
        "Convolutional Layers (conv1 to conv8): 각 합성곱 층은 이미지의 다양한 특징을 추출합니다. kernel_size=3은 3x3 크기의 필터를 사용하고, padding='same'은 출력 크기를 입력과 동일하게 유지하도록 패딩을 적용합니다.\n",
        "\n",
        "Batch Normalization (bn1 to bn8): 각 합성곱 층의 출력에 배치 정규화를 적용하여 안정적인 학습을 돕습니다.\n",
        "\n",
        "Dropout (dropout1 to dropout8): 과적합을 방지하기 위해 각 합성곱 층의 출력에 드롭아웃을 적용합니다.\n",
        "\n",
        "Max Pooling (max_pool1 to max_pool3): 최대 풀링을 사용하여 이미지의 공간 해상도를 줄입니다.\n",
        "\n",
        "Fully Connected Layers (fc1 to fc3): 전체적인 이미지 정보를 사용하여 최종적인 예측을 수행하는 완전 연결 층입니다.\n",
        "\n",
        "Activation Function (ReLU): 각 합성곱 층의 출력에는 ReLU(Rectified Linear Unit) 활성화 함수가 적용되었습니다.\n",
        "\n",
        "Softmax Activation (output layer): 모델의 출력층에서는 소프트맥스 활성화 함수를 사용하여 다중 클래스 분류를 위한 확률 분포를 생성합니다."
      ]
    },
    {
      "cell_type": "code",
      "execution_count": null,
      "metadata": {
        "id": "danM5guE1b_N"
      },
      "outputs": [],
      "source": [
        "model = ED_model(in_channels=1, out_channels=NUM_CLASSES)\n",
        "summary(model, input_size=(99, 1, 48, 48))"
      ]
    },
    {
      "cell_type": "code",
      "execution_count": null,
      "metadata": {
        "id": "9lbZ63qV1q_r"
      },
      "outputs": [],
      "source": [
        "def train():\n",
        "\n",
        "    for epoch in range(1, EPOCHS+1):\n",
        "\n",
        "        # Train model\n",
        "        model.train()\n",
        "        train_losses   = []\n",
        "        train_accuracy = []\n",
        "        train_f1       = []\n",
        "\n",
        "        for i, batch in enumerate(train_dataloader):\n",
        "            #Extract data, labels\n",
        "            img_batch, label_batch = batch   #img [B,3,H,W], label[B,N_CLASSES]\n",
        "            img_batch = img_batch.to(DEVICE)\n",
        "            label_batch = label_batch.type(torch.LongTensor).to(DEVICE)\n",
        "\n",
        "            #Train model\n",
        "            optimizer.zero_grad()\n",
        "            output = model(img_batch) # output: [B, 7, H, W]\n",
        "            loss   = criterion(output, label_batch)\n",
        "            loss.backward()\n",
        "            optimizer.step()\n",
        "\n",
        "            #Add current loss to temporary list (after 1 epoch take avg of all batch losses)\n",
        "            preds = torch.argmax(output, dim=1)\n",
        "            f1 = f1_score(preds.cpu(), label_batch.cpu(), average='macro')\n",
        "            acc = torch.sum(preds == label_batch) / len(preds)\n",
        "            train_losses.append(loss.item())\n",
        "            train_accuracy.append(acc.cpu())\n",
        "            train_f1.append(f1)\n",
        "            # print(f'Train Epoch: {epoch}, batch: {i} | Batch metrics | loss: {loss.item():.4f}, f1: {f1:.3f}, accuracy: {acc:.3f}')\n",
        "\n",
        "        # Update global metrics\n",
        "        print(f'TRAIN       Epoch: {epoch} | Epoch metrics | loss: {np.mean(train_losses):.4f}, f1: {np.mean(train_f1):.3f}, accuracy: {np.mean(train_accuracy):.3f}, learning rate: {optimizer.state_dict()[\"param_groups\"][0][\"lr\"]:.6f}')\n",
        "        total_train_losses.append(np.mean(train_losses))\n",
        "        total_train_accuracy.append(np.mean(train_accuracy))\n",
        "        total_train_f1.append(np.mean(train_f1))\n",
        "\n",
        "        #Update learning rate\n",
        "        learning_rate_tracker.append(optimizer.state_dict()['param_groups'][0]['lr'])\n",
        "        scheduler.step()\n",
        "\n",
        "        # Validate model\n",
        "        model.eval()\n",
        "        val_losses   = []\n",
        "        val_accuracy = []\n",
        "        val_f1       = []\n",
        "\n",
        "        for i, batch in enumerate(val_dataloader):\n",
        "            #Extract data, labels\n",
        "            img_batch, label_batch = batch\n",
        "            img_batch = img_batch.to(DEVICE)\n",
        "            label_batch = label_batch.type(torch.LongTensor).to(DEVICE)\n",
        "\n",
        "            #Validate model\n",
        "            with torch.cuda.amp.autocast():\n",
        "                output = model(img_batch)\n",
        "                loss   = criterion(output, label_batch)\n",
        "\n",
        "            #Add current loss to temporary list (after 1 epoch take avg of all batch losses)\n",
        "            preds = torch.argmax(output, dim=1)\n",
        "            f1 = f1_score(preds.cpu(), label_batch.cpu(), average='macro')\n",
        "            acc = torch.sum(preds == label_batch) / len(preds)\n",
        "            val_losses.append(loss.item())\n",
        "            val_accuracy.append(acc.cpu())\n",
        "            val_f1.append(f1)\n",
        "            # print(f'Val Epoch: {epoch}, batch: {i} | Batch metrics | loss: {loss.item():.4f}, f1: {f1:.3f}, accuracy: {acc:.3f}')\n",
        "\n",
        "        # Update global metrics\n",
        "        print(f'VALIDATION  Epoch: {epoch} | Epoch metrics | loss: {np.mean(val_losses):.4f}, f1: {np.mean(val_f1):.3f}, accuracy: {np.mean(val_accuracy):.3f}')\n",
        "        print('-'*106)\n",
        "        total_val_losses.append(np.mean(val_losses))\n",
        "        total_val_accuracy.append(np.mean(val_accuracy))\n",
        "        total_val_f1.append(np.mean(val_f1))\n",
        "\n",
        "\n",
        "        # Save the results so far\n",
        "        temp_df = pd.DataFrame(list(zip(total_train_losses, total_val_losses, total_train_f1, total_val_f1,\n",
        "                                    total_train_accuracy, total_val_accuracy)),\n",
        "                            columns = ['train_loss', 'val_loss', 'train_f1', 'test_f1', 'train_accuracy',\n",
        "                                      'test_accuracy'])\n",
        "        temp_df.to_csv('train_val_measures')"
      ]
    },
    {
      "cell_type": "code",
      "execution_count": null,
      "metadata": {
        "id": "LjVOxh0R1z6I"
      },
      "outputs": [],
      "source": [
        "# HYPERPARAMETERS for training run\n",
        "DEVICE = \"cuda\" if torch.cuda.is_available() else \"cpu\"\n",
        "EPOCHS = 60\n",
        "LR = 0.01\n",
        "BATCH_SIZE = 256\n",
        "\n",
        "model = ED_model(in_channels=1, out_channels=NUM_CLASSES).to(DEVICE)\n",
        "train_dataloader, val_dataloader, test_dataloader = create_dataloaders(BATCH_SIZE, X_train, y_train, X_val, y_val, X_test, y_test)\n",
        "optimizer = torch.optim.Adam(model.parameters(), lr=LR)\n",
        "scheduler = torch.optim.lr_scheduler.StepLR(optimizer, step_size=20, gamma=0.1) # Use dynamic learning rate\n",
        "criterion = nn.CrossEntropyLoss().to(DEVICE)\n",
        "\n",
        "total_train_losses   = []\n",
        "total_val_losses     = []\n",
        "total_train_accuracy = []\n",
        "total_val_accuracy   = []\n",
        "total_train_f1       = []\n",
        "total_val_f1         = []\n",
        "learning_rate_tracker = []"
      ]
    },
    {
      "cell_type": "code",
      "execution_count": null,
      "metadata": {
        "colab": {
          "base_uri": "https://localhost:8080/"
        },
        "id": "NRTop6D912GY",
        "outputId": "98dfc7b8-d38f-46d3-80a4-bd1bf13b4dae"
      },
      "outputs": [
        {
          "name": "stdout",
          "output_type": "stream",
          "text": [
            "TRAIN       Epoch: 1 | Epoch metrics | loss: 1.9145, f1: 0.058, accuracy: 0.248, learning rate: 0.010000\n",
            "VALIDATION  Epoch: 1 | Epoch metrics | loss: 1.9193, f1: 0.064, accuracy: 0.246\n",
            "----------------------------------------------------------------------------------------------------------\n",
            "TRAIN       Epoch: 2 | Epoch metrics | loss: 1.9146, f1: 0.057, accuracy: 0.251, learning rate: 0.010000\n",
            "VALIDATION  Epoch: 2 | Epoch metrics | loss: 1.9193, f1: 0.064, accuracy: 0.246\n",
            "----------------------------------------------------------------------------------------------------------\n",
            "TRAIN       Epoch: 3 | Epoch metrics | loss: 1.9133, f1: 0.058, accuracy: 0.252, learning rate: 0.010000\n",
            "VALIDATION  Epoch: 3 | Epoch metrics | loss: 1.9193, f1: 0.064, accuracy: 0.246\n",
            "----------------------------------------------------------------------------------------------------------\n",
            "TRAIN       Epoch: 4 | Epoch metrics | loss: 1.9131, f1: 0.058, accuracy: 0.252, learning rate: 0.010000\n",
            "VALIDATION  Epoch: 4 | Epoch metrics | loss: 1.9193, f1: 0.064, accuracy: 0.246\n",
            "----------------------------------------------------------------------------------------------------------\n",
            "TRAIN       Epoch: 5 | Epoch metrics | loss: 1.9146, f1: 0.057, accuracy: 0.251, learning rate: 0.010000\n",
            "VALIDATION  Epoch: 5 | Epoch metrics | loss: 1.9193, f1: 0.064, accuracy: 0.246\n",
            "----------------------------------------------------------------------------------------------------------\n",
            "TRAIN       Epoch: 6 | Epoch metrics | loss: 1.9138, f1: 0.058, accuracy: 0.252, learning rate: 0.010000\n",
            "VALIDATION  Epoch: 6 | Epoch metrics | loss: 1.9193, f1: 0.064, accuracy: 0.246\n",
            "----------------------------------------------------------------------------------------------------------\n",
            "TRAIN       Epoch: 7 | Epoch metrics | loss: 1.9136, f1: 0.058, accuracy: 0.252, learning rate: 0.010000\n",
            "VALIDATION  Epoch: 7 | Epoch metrics | loss: 1.9193, f1: 0.064, accuracy: 0.246\n",
            "----------------------------------------------------------------------------------------------------------\n",
            "TRAIN       Epoch: 8 | Epoch metrics | loss: 1.9138, f1: 0.057, accuracy: 0.252, learning rate: 0.010000\n",
            "VALIDATION  Epoch: 8 | Epoch metrics | loss: 1.9193, f1: 0.064, accuracy: 0.246\n",
            "----------------------------------------------------------------------------------------------------------\n",
            "TRAIN       Epoch: 9 | Epoch metrics | loss: 1.9142, f1: 0.057, accuracy: 0.251, learning rate: 0.010000\n",
            "VALIDATION  Epoch: 9 | Epoch metrics | loss: 1.9193, f1: 0.064, accuracy: 0.246\n",
            "----------------------------------------------------------------------------------------------------------\n",
            "TRAIN       Epoch: 10 | Epoch metrics | loss: 1.9140, f1: 0.058, accuracy: 0.251, learning rate: 0.010000\n",
            "VALIDATION  Epoch: 10 | Epoch metrics | loss: 1.9193, f1: 0.064, accuracy: 0.246\n",
            "----------------------------------------------------------------------------------------------------------\n",
            "TRAIN       Epoch: 11 | Epoch metrics | loss: 1.9142, f1: 0.058, accuracy: 0.251, learning rate: 0.010000\n",
            "VALIDATION  Epoch: 11 | Epoch metrics | loss: 1.9193, f1: 0.064, accuracy: 0.246\n",
            "----------------------------------------------------------------------------------------------------------\n",
            "TRAIN       Epoch: 12 | Epoch metrics | loss: 1.9140, f1: 0.058, accuracy: 0.251, learning rate: 0.010000\n",
            "VALIDATION  Epoch: 12 | Epoch metrics | loss: 1.9193, f1: 0.064, accuracy: 0.246\n",
            "----------------------------------------------------------------------------------------------------------\n",
            "TRAIN       Epoch: 13 | Epoch metrics | loss: 1.9136, f1: 0.057, accuracy: 0.252, learning rate: 0.010000\n",
            "VALIDATION  Epoch: 13 | Epoch metrics | loss: 1.9193, f1: 0.064, accuracy: 0.246\n",
            "----------------------------------------------------------------------------------------------------------\n",
            "TRAIN       Epoch: 14 | Epoch metrics | loss: 1.9144, f1: 0.058, accuracy: 0.251, learning rate: 0.010000\n",
            "VALIDATION  Epoch: 14 | Epoch metrics | loss: 1.9193, f1: 0.064, accuracy: 0.246\n",
            "----------------------------------------------------------------------------------------------------------\n",
            "TRAIN       Epoch: 15 | Epoch metrics | loss: 1.9131, f1: 0.058, accuracy: 0.252, learning rate: 0.010000\n",
            "VALIDATION  Epoch: 15 | Epoch metrics | loss: 1.9193, f1: 0.064, accuracy: 0.246\n",
            "----------------------------------------------------------------------------------------------------------\n",
            "TRAIN       Epoch: 16 | Epoch metrics | loss: 1.9146, f1: 0.057, accuracy: 0.251, learning rate: 0.010000\n",
            "VALIDATION  Epoch: 16 | Epoch metrics | loss: 1.9193, f1: 0.064, accuracy: 0.246\n",
            "----------------------------------------------------------------------------------------------------------\n",
            "TRAIN       Epoch: 17 | Epoch metrics | loss: 1.9125, f1: 0.058, accuracy: 0.253, learning rate: 0.010000\n",
            "VALIDATION  Epoch: 17 | Epoch metrics | loss: 1.9193, f1: 0.064, accuracy: 0.246\n",
            "----------------------------------------------------------------------------------------------------------\n",
            "TRAIN       Epoch: 18 | Epoch metrics | loss: 1.9146, f1: 0.058, accuracy: 0.251, learning rate: 0.010000\n",
            "VALIDATION  Epoch: 18 | Epoch metrics | loss: 1.9193, f1: 0.064, accuracy: 0.246\n",
            "----------------------------------------------------------------------------------------------------------\n",
            "TRAIN       Epoch: 19 | Epoch metrics | loss: 1.9152, f1: 0.057, accuracy: 0.250, learning rate: 0.010000\n",
            "VALIDATION  Epoch: 19 | Epoch metrics | loss: 1.9193, f1: 0.064, accuracy: 0.246\n",
            "----------------------------------------------------------------------------------------------------------\n",
            "TRAIN       Epoch: 20 | Epoch metrics | loss: 1.9140, f1: 0.058, accuracy: 0.251, learning rate: 0.010000\n",
            "VALIDATION  Epoch: 20 | Epoch metrics | loss: 1.9193, f1: 0.064, accuracy: 0.246\n",
            "----------------------------------------------------------------------------------------------------------\n",
            "TRAIN       Epoch: 21 | Epoch metrics | loss: 1.9146, f1: 0.057, accuracy: 0.251, learning rate: 0.001000\n",
            "VALIDATION  Epoch: 21 | Epoch metrics | loss: 1.9193, f1: 0.064, accuracy: 0.246\n",
            "----------------------------------------------------------------------------------------------------------\n",
            "TRAIN       Epoch: 22 | Epoch metrics | loss: 1.9140, f1: 0.057, accuracy: 0.251, learning rate: 0.001000\n",
            "VALIDATION  Epoch: 22 | Epoch metrics | loss: 1.9193, f1: 0.064, accuracy: 0.246\n",
            "----------------------------------------------------------------------------------------------------------\n"
          ]
        }
      ],
      "source": [
        "train()"
      ]
    },
    {
      "cell_type": "code",
      "execution_count": null,
      "metadata": {
        "colab": {
          "base_uri": "https://localhost:8080/",
          "height": 284
        },
        "id": "XVsP9_2DCSMf",
        "outputId": "113c9cce-975d-4fff-db31-9913b8c59ec8"
      },
      "outputs": [
        {
          "data": {
            "image/png": "[encoded data removed]",
            "text/plain": [
              "<Figure size 2000x600 with 3 Axes>"
            ]
          },
          "metadata": {},
          "output_type": "display_data"
        }
      ],
      "source": [
        "f, axarr = plt.subplots(1,3, figsize = (20,6))\n",
        "axarr[0].plot(list(range(len(total_train_losses))), total_train_losses)\n",
        "axarr[0].plot(list(range(len(total_train_losses))), total_val_losses)\n",
        "axarr[0].set_title('Train/validation loss')\n",
        "axarr[0].set_xlabel('Epochs')\n",
        "axarr[0].set_ylabel('Loss')\n",
        "\n",
        "axarr[1].plot(list(range(len(total_train_accuracy))), total_train_accuracy, label='Train accuracy')\n",
        "axarr[1].plot(list(range(len(total_train_accuracy))), total_val_accuracy, label='Val accuracy')\n",
        "axarr[1].plot(list(range(len(total_train_accuracy))), total_train_f1, label='Train F1')\n",
        "axarr[1].plot(list(range(len(total_train_accuracy))), total_val_f1, label='Val F1')\n",
        "axarr[1].set_title('Train/validation accuracy and f1')\n",
        "axarr[1].set_xlabel('Epochs')\n",
        "axarr[1].set_ylabel('Accuracy/f1')\n",
        "axarr[1].legend()\n",
        "\n",
        "axarr[2].plot(np.arange(len(learning_rate_tracker)), learning_rate_tracker)\n",
        "axarr[2].set_title('Learning rate change')\n",
        "axarr[2].set_xlabel('Epochs')\n",
        "axarr[2].set_ylabel('Learning rate')\n",
        "plt.show()"
      ]
    },
    {
      "cell_type": "code",
      "execution_count": null,
      "metadata": {
        "id": "HfTl2ztXCsNn"
      },
      "outputs": [],
      "source": []
    }
  ],
  "metadata": {
    "accelerator": "GPU",
    "colab": {
      "gpuType": "T4",
      "provenance": []
    },
    "kernelspec": {
      "display_name": "Python 3",
      "name": "python3"
    },
    "language_info": {
      "name": "python"
    }
  },
  "nbformat": 4,
  "nbformat_minor": 0
}
