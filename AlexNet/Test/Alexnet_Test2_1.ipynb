{
  "cells": [
    {
      "cell_type": "code",
      "execution_count": 1,
      "metadata": {
        "colab": {
          "base_uri": "https://localhost:8080/"
        },
        "id": "QTcSIB2ZiMBT",
        "outputId": "87ed323c-ccb2-4f5b-9ca7-36553dd05451"
      },
      "outputs": [
        {
          "output_type": "stream",
          "name": "stdout",
          "text": [
            "Sat Apr  6 14:06:07 2024       \n",
            "+---------------------------------------------------------------------------------------+\n",
            "| NVIDIA-SMI 535.104.05             Driver Version: 535.104.05   CUDA Version: 12.2     |\n",
            "|-----------------------------------------+----------------------+----------------------+\n",
            "| GPU  Name                 Persistence-M | Bus-Id        Disp.A | Volatile Uncorr. ECC |\n",
            "| Fan  Temp   Perf          Pwr:Usage/Cap |         Memory-Usage | GPU-Util  Compute M. |\n",
            "|                                         |                      |               MIG M. |\n",
            "|=========================================+======================+======================|\n",
            "|   0  Tesla T4                       Off | 00000000:00:04.0 Off |                    0 |\n",
            "| N/A   48C    P8              12W /  70W |      0MiB / 15360MiB |      0%      Default |\n",
            "|                                         |                      |                  N/A |\n",
            "+-----------------------------------------+----------------------+----------------------+\n",
            "                                                                                         \n",
            "+---------------------------------------------------------------------------------------+\n",
            "| Processes:                                                                            |\n",
            "|  GPU   GI   CI        PID   Type   Process name                            GPU Memory |\n",
            "|        ID   ID                                                             Usage      |\n",
            "|=======================================================================================|\n",
            "|  No running processes found                                                           |\n",
            "+---------------------------------------------------------------------------------------+\n"
          ]
        }
      ],
      "source": [
        "!nvidia-smi"
      ]
    },
    {
      "cell_type": "code",
      "execution_count": 2,
      "metadata": {
        "id": "pVsbb7CAjiAf"
      },
      "outputs": [],
      "source": [
        "import torch\n",
        "import torch.nn as nn  # 신경망 모듈, 구축 및 훈련에 사용\n",
        "from torch.utils.data.dataset import Dataset # 사용자 정의 데이터 셋을 만들어 딥러닝을 할 수 있게 함\n",
        "import torchvision\n",
        "import torchvision.transforms as transforms # 이미지 전처리에 필요한 transform 사용\n",
        "from torch.utils.data import DataLoader # 데이터 관리에 필요한 dataloader\n",
        "import torch.nn.functional as F # loss or cost gradient와 같은 여러 함수를 사용할 수 있음\n",
        "from sklearn.metrics import f1_score, confusion_matrix # f1 score와 행렬을 계산 -> 모델의 성능 평가\n",
        "import numpy as np # numpy 사용\n",
        "import matplotlib.pyplot as plt #시각화를 위한 차트 사용\n",
        "from torch.cuda import is_available\n",
        "from torchvision.datasets import CIFAR10"
      ]
    },
    {
      "cell_type": "code",
      "execution_count": 3,
      "metadata": {
        "id": "ozJ8a_zarD-j"
      },
      "outputs": [],
      "source": [
        "device='cuda' if is_available() else 'cpu'\n",
        "lr = 1e-4\n",
        "batch_size=32\n",
        "epoch = 10"
      ]
    },
    {
      "cell_type": "code",
      "source": [
        "all_data=CIFAR10(root='.',train=True,transform=transforms.ToTensor(),download=True)\n",
        "\n",
        "meanRGB=[np.mean(x.numpy(),axis=(1,2)) for x,_ in all_data]\n",
        "stdRGB=[np.std(x.numpy(),axis=(1,2)) for x,_ in all_data]\n",
        "\n",
        "meanR = np.mean([m[0] for m in meanRGB])\n",
        "meanG = np.mean([m[1] for m in meanRGB])\n",
        "meanB = np.mean([m[2] for m in meanRGB])\n",
        "\n",
        "stdR = np.mean([s[0] for s in stdRGB])\n",
        "stdG = np.mean([s[1] for s in stdRGB])\n",
        "stdB = np.mean([s[2] for s in stdRGB])\n",
        "\n",
        "print('Mean:',meanR, meanG, meanB)\n",
        "print('Std:',stdR, stdG, stdB)\n",
        "mean = [meanR, meanG, meanB]\n",
        "std = [stdR, stdG, stdB]"
      ],
      "metadata": {
        "colab": {
          "base_uri": "https://localhost:8080/"
        },
        "id": "fxR_kwnhwSyV",
        "outputId": "3ce54186-d239-4303-dac8-91ab88ff774c"
      },
      "execution_count": 6,
      "outputs": [
        {
          "output_type": "stream",
          "name": "stdout",
          "text": [
            "Files already downloaded and verified\n",
            "Mean: 0.49139965 0.48215845 0.4465309\n",
            "Std: 0.20220213 0.19931543 0.20086348\n"
          ]
        }
      ]
    },
    {
      "cell_type": "code",
      "execution_count": 8,
      "metadata": {
        "id": "kERkfbgvjrX8"
      },
      "outputs": [],
      "source": [
        "transform = transforms.Compose([\n",
        "    transforms.Resize((256,256)),\n",
        "    transforms.CenterCrop(227),\n",
        "    transforms.RandomHorizontalFlip(),\n",
        "    transforms.RandomVerticalFlip(),\n",
        "    transforms.ColorJitter(brightness=0.2, contrast=0.2, saturation=0.2, hue=0.1),\n",
        "    transforms.ToTensor(),\n",
        "    transforms.Normalize(mean, std)])"
      ]
    },
    {
      "cell_type": "code",
      "execution_count": 9,
      "metadata": {
        "colab": {
          "base_uri": "https://localhost:8080/"
        },
        "id": "_liRUNXao3Du",
        "outputId": "bf6a2d87-c394-419a-d893-4a63aedf2429"
      },
      "outputs": [
        {
          "output_type": "stream",
          "name": "stdout",
          "text": [
            "Downloading https://www.cs.toronto.edu/~kriz/cifar-10-python.tar.gz to ./data/cifar-10-python.tar.gz\n"
          ]
        },
        {
          "output_type": "stream",
          "name": "stderr",
          "text": [
            "100%|██████████| 170498071/170498071 [00:13<00:00, 12797999.49it/s]\n"
          ]
        },
        {
          "output_type": "stream",
          "name": "stdout",
          "text": [
            "Extracting ./data/cifar-10-python.tar.gz to ./data\n",
            "Files already downloaded and verified\n"
          ]
        }
      ],
      "source": [
        "train_data = torchvision.datasets.CIFAR10(root='./data', train=True, download=True, transform=transform)\n",
        "trainloader = torch.utils.data.DataLoader(train_data, batch_size=batch_size, shuffle=True, num_workers=2)\n",
        "\n",
        "test_data = torchvision.datasets.CIFAR10(root='./data', train=False, download=True, transform=transform)\n",
        "testloader = torch.utils.data.DataLoader(test_data, batch_size=batch_size, shuffle=False, num_workers=2)"
      ]
    },
    {
      "cell_type": "code",
      "execution_count": 10,
      "metadata": {
        "id": "eq6uq_2sylV7"
      },
      "outputs": [],
      "source": [
        "class Net(torch.nn.Module):\n",
        "    def __init__(self, in_channels, num_classes):\n",
        "        super().__init__()\n",
        "\n",
        "        self.layer1 = torch.nn.Sequential(\n",
        "            torch.nn.Conv2d(in_channels, 96, kernel_size=11, stride=4), # conv1\n",
        "            torch.nn.ReLU(inplace=True),\n",
        "            torch.nn.LocalResponseNorm(2),\n",
        "            torch.nn.MaxPool2d(kernel_size=3, stride=2)\n",
        "        )\n",
        "\n",
        "        self.layer2 = torch.nn.Sequential(\n",
        "            torch.nn.Conv2d(96, 256, kernel_size=5, stride=1, padding=2), # conv2\n",
        "            torch.nn.ReLU(inplace=True),\n",
        "            torch.nn.LocalResponseNorm(2),\n",
        "            torch.nn.MaxPool2d(kernel_size=3, stride=2)\n",
        "        )\n",
        "\n",
        "        self.layer3 = torch.nn.Sequential(\n",
        "            torch.nn.Conv2d(256, 384, kernel_size=3, stride=1, padding=1), # conv3\n",
        "            torch.nn.ReLU(inplace=True)\n",
        "        )\n",
        "\n",
        "        self.layer4 = torch.nn.Sequential(\n",
        "            torch.nn.Conv2d(384, 384, kernel_size=3, stride=1, padding=1), # conv4\n",
        "            torch.nn.ReLU(inplace=True)\n",
        "        )\n",
        "\n",
        "        self.layer5 = torch.nn.Sequential(\n",
        "            torch.nn.Conv2d(384, 256, kernel_size=3, stride=1, padding=1), # conv5\n",
        "            torch.nn.ReLU(inplace=True),\n",
        "            torch.nn.MaxPool2d(kernel_size=3, stride=2)\n",
        "        )\n",
        "\n",
        "        self.avgpool = torch.nn.AdaptiveAvgPool2d((6,6))\n",
        "\n",
        "        self.classifier = torch.nn.Sequential(\n",
        "            torch.nn.Linear(6*6*256, 4096), # fc1\n",
        "            torch.nn.ReLU(inplace=True),\n",
        "            torch.nn.Dropout(0.5),\n",
        "            torch.nn.Linear(4096, 4096), # fc2\n",
        "            torch.nn.ReLU(inplace=True),\n",
        "            torch.nn.Dropout(0.5),\n",
        "            torch.nn.Linear(4096, num_classes) # fc3\n",
        "        )\n",
        "\n",
        "    def forward(self, x):\n",
        "        x = self.layer1(x)\n",
        "        x = self.layer2(x)\n",
        "        x = self.layer3(x)\n",
        "        x = self.layer4(x)\n",
        "        x = self.layer5(x)\n",
        "        x = self.avgpool(x)\n",
        "        x = torch.flatten(x, 1)\n",
        "        x = self.classifier(x)\n",
        "        return x"
      ]
    },
    {
      "cell_type": "code",
      "execution_count": 11,
      "metadata": {
        "id": "3wxmYOHnzF53"
      },
      "outputs": [],
      "source": [
        "model = Net(in_channels = 3, num_classes=10).to(device)\n",
        "optimizer = torch.optim.Adam(model.parameters(),lr)\n",
        "criterion = nn.CrossEntropyLoss()"
      ]
    },
    {
      "cell_type": "code",
      "execution_count": 12,
      "metadata": {
        "id": "e9vbQ001V-_h"
      },
      "outputs": [],
      "source": [
        "from tqdm import tqdm\n",
        "\n",
        "def train(model, train_loader, optimizer, Epoch):\n",
        "    model.train()\n",
        "    losses = []\n",
        "    correct = 0\n",
        "    total_samples = len(train_loader.dataset)\n",
        "\n",
        "    with tqdm(total=len(train_loader), unit=\"batch\") as tepoch:\n",
        "        tepoch.set_description(f\"Epoch {Epoch+1}\")\n",
        "        for batch_idx, (image, label) in enumerate(train_loader):\n",
        "            image = image.to(device)\n",
        "            label = label.to(device)\n",
        "            optimizer.zero_grad()\n",
        "            output = model(image)\n",
        "            loss = criterion(output, label)\n",
        "            loss.backward()\n",
        "            optimizer.step()\n",
        "            losses.append(loss.item())\n",
        "            prediction = output.max(1, keepdim=True)[1]\n",
        "            correct += prediction.eq(label.view_as(prediction)).sum().item()\n",
        "            tepoch.set_postfix(loss=f\"{loss.item():.4f}\")\n",
        "            tepoch.update(1)\n",
        "\n",
        "    train_loss = np.mean(losses)\n",
        "    accuracy = 100. * correct / total_samples\n",
        "\n",
        "    return train_loss, accuracy\n"
      ]
    },
    {
      "cell_type": "code",
      "execution_count": 13,
      "metadata": {
        "id": "dj15R-nYZ-lR"
      },
      "outputs": [],
      "source": [
        "def evaluate(model, test_loader):\n",
        "    model.eval()\n",
        "    losses = []\n",
        "    correct = 0\n",
        "    with torch.no_grad():\n",
        "        for image, label in test_loader:\n",
        "            image = image.to(device)\n",
        "            label = label.to(device)\n",
        "            output = model(image)\n",
        "            loss = criterion(output, label)\n",
        "            losses.append(loss.item())\n",
        "\n",
        "            prediction = output.max(1, keepdim=True)[1]\n",
        "            correct += prediction.eq(label.view_as(prediction)).sum().item()\n",
        "\n",
        "    test_loss = np.mean(losses)\n",
        "    test_accuracy = 100. * correct / len(test_loader.dataset)\n",
        "    return test_loss, test_accuracy"
      ]
    },
    {
      "cell_type": "code",
      "execution_count": 14,
      "metadata": {
        "colab": {
          "base_uri": "https://localhost:8080/"
        },
        "id": "v1Kq24JdaAtO",
        "outputId": "05951925-9119-4441-fb6a-0a0b7eb1e881"
      },
      "outputs": [
        {
          "output_type": "stream",
          "name": "stderr",
          "text": [
            "Epoch 1: 100%|██████████| 1563/1563 [05:58<00:00,  4.36batch/s, loss=1.1525]\n"
          ]
        },
        {
          "output_type": "stream",
          "name": "stdout",
          "text": [
            "\n",
            "[EPOCH: 1]\tTrain Loss: 1.6917\tTrain Accuracy: 37.136 %\n",
            "[EPOCH: 1]\tTest Loss: 1.3332\tTest Accuracy: 51.28 % \n",
            "\n"
          ]
        },
        {
          "output_type": "stream",
          "name": "stderr",
          "text": [
            "Epoch 2: 100%|██████████| 1563/1563 [06:03<00:00,  4.30batch/s, loss=1.4060]\n"
          ]
        },
        {
          "output_type": "stream",
          "name": "stdout",
          "text": [
            "\n",
            "[EPOCH: 2]\tTrain Loss: 1.2195\tTrain Accuracy: 56.346 %\n",
            "[EPOCH: 2]\tTest Loss: 1.0691\tTest Accuracy: 61.96 % \n",
            "\n"
          ]
        },
        {
          "output_type": "stream",
          "name": "stderr",
          "text": [
            "Epoch 3: 100%|██████████| 1563/1563 [06:00<00:00,  4.33batch/s, loss=1.2806]\n"
          ]
        },
        {
          "output_type": "stream",
          "name": "stdout",
          "text": [
            "\n",
            "[EPOCH: 3]\tTrain Loss: 0.9944\tTrain Accuracy: 65.048 %\n",
            "[EPOCH: 3]\tTest Loss: 0.9294\tTest Accuracy: 67.48 % \n",
            "\n"
          ]
        },
        {
          "output_type": "stream",
          "name": "stderr",
          "text": [
            "Epoch 4: 100%|██████████| 1563/1563 [05:57<00:00,  4.37batch/s, loss=1.4316]\n"
          ]
        },
        {
          "output_type": "stream",
          "name": "stdout",
          "text": [
            "\n",
            "[EPOCH: 4]\tTrain Loss: 0.8677\tTrain Accuracy: 69.54 %\n",
            "[EPOCH: 4]\tTest Loss: 0.8322\tTest Accuracy: 70.95 % \n",
            "\n"
          ]
        },
        {
          "output_type": "stream",
          "name": "stderr",
          "text": [
            "Epoch 5: 100%|██████████| 1563/1563 [06:03<00:00,  4.30batch/s, loss=0.8719]\n"
          ]
        },
        {
          "output_type": "stream",
          "name": "stdout",
          "text": [
            "\n",
            "[EPOCH: 5]\tTrain Loss: 0.7800\tTrain Accuracy: 72.89 %\n",
            "[EPOCH: 5]\tTest Loss: 0.7533\tTest Accuracy: 74.12 % \n",
            "\n"
          ]
        },
        {
          "output_type": "stream",
          "name": "stderr",
          "text": [
            "Epoch 6: 100%|██████████| 1563/1563 [05:57<00:00,  4.37batch/s, loss=0.5363]\n"
          ]
        },
        {
          "output_type": "stream",
          "name": "stdout",
          "text": [
            "\n",
            "[EPOCH: 6]\tTrain Loss: 0.7101\tTrain Accuracy: 74.97 %\n",
            "[EPOCH: 6]\tTest Loss: 0.7612\tTest Accuracy: 73.34 % \n",
            "\n"
          ]
        },
        {
          "output_type": "stream",
          "name": "stderr",
          "text": [
            "Epoch 7: 100%|██████████| 1563/1563 [05:56<00:00,  4.38batch/s, loss=1.1328]\n"
          ]
        },
        {
          "output_type": "stream",
          "name": "stdout",
          "text": [
            "\n",
            "[EPOCH: 7]\tTrain Loss: 0.6506\tTrain Accuracy: 77.352 %\n",
            "[EPOCH: 7]\tTest Loss: 0.6926\tTest Accuracy: 76.32 % \n",
            "\n"
          ]
        },
        {
          "output_type": "stream",
          "name": "stderr",
          "text": [
            "Epoch 8: 100%|██████████| 1563/1563 [05:54<00:00,  4.41batch/s, loss=0.9668]\n"
          ]
        },
        {
          "output_type": "stream",
          "name": "stdout",
          "text": [
            "\n",
            "[EPOCH: 8]\tTrain Loss: 0.6013\tTrain Accuracy: 79.174 %\n",
            "[EPOCH: 8]\tTest Loss: 0.7026\tTest Accuracy: 76.05 % \n",
            "\n"
          ]
        },
        {
          "output_type": "stream",
          "name": "stderr",
          "text": [
            "Epoch 9: 100%|██████████| 1563/1563 [05:54<00:00,  4.41batch/s, loss=0.4102]\n"
          ]
        },
        {
          "output_type": "stream",
          "name": "stdout",
          "text": [
            "\n",
            "[EPOCH: 9]\tTrain Loss: 0.5574\tTrain Accuracy: 80.622 %\n",
            "[EPOCH: 9]\tTest Loss: 0.6684\tTest Accuracy: 77.56 % \n",
            "\n"
          ]
        },
        {
          "output_type": "stream",
          "name": "stderr",
          "text": [
            "Epoch 10: 100%|██████████| 1563/1563 [05:52<00:00,  4.44batch/s, loss=0.4681]\n"
          ]
        },
        {
          "output_type": "stream",
          "name": "stdout",
          "text": [
            "\n",
            "[EPOCH: 10]\tTrain Loss: 0.5204\tTrain Accuracy: 82.216 %\n",
            "[EPOCH: 10]\tTest Loss: 0.6171\tTest Accuracy: 78.79 % \n",
            "\n"
          ]
        },
        {
          "output_type": "stream",
          "name": "stderr",
          "text": [
            "Epoch 11: 100%|██████████| 1563/1563 [05:58<00:00,  4.36batch/s, loss=0.2551]\n"
          ]
        },
        {
          "output_type": "stream",
          "name": "stdout",
          "text": [
            "\n",
            "[EPOCH: 11]\tTrain Loss: 0.4849\tTrain Accuracy: 83.224 %\n",
            "[EPOCH: 11]\tTest Loss: 0.6027\tTest Accuracy: 79.51 % \n",
            "\n"
          ]
        }
      ],
      "source": [
        "train_losses = []\n",
        "test_losses = []\n",
        "train_accuracies = []\n",
        "test_accuracies = []\n",
        "\n",
        "for Epoch in range(11):\n",
        "    train_loss, train_accuracy = train(model, trainloader, optimizer, Epoch)\n",
        "    test_loss, test_accuracy = evaluate(model, testloader)\n",
        "\n",
        "    # 각 에폭별로 훈련 손실과 정확도, 테스트 손실과 정확도를 저장\n",
        "    train_losses.append(train_loss)\n",
        "    test_losses.append(test_loss)\n",
        "    train_accuracies.append(train_accuracy)\n",
        "    test_accuracies.append(test_accuracy)\n",
        "\n",
        "    print(f\"\\n[EPOCH: {Epoch+1}]\\tTrain Loss: {train_loss:.4f}\\tTrain Accuracy: {train_accuracy} %\")\n",
        "    print(f\"[EPOCH: {Epoch+1}]\\tTest Loss: {test_loss:.4f}\\tTest Accuracy: {test_accuracy} % \\n\")"
      ]
    },
    {
      "cell_type": "code",
      "execution_count": 15,
      "metadata": {
        "id": "176LUxX1QL9z",
        "colab": {
          "base_uri": "https://localhost:8080/",
          "height": 266
        },
        "outputId": "aa0548f4-7156-40f0-e62b-8969d442b727"
      },
      "outputs": [
        {
          "output_type": "display_data",
          "data": {
            "text/plain": [
              "<Figure size 2000x500 with 2 Axes>"
            ],
            "image/png": "[encoded data removed]"
          },
          "metadata": {}
        }
      ],
      "source": [
        "plt.figure(figsize=(20, 5))\n",
        "epochs = range(1, 12)\n",
        "# 첫 번째 그래프\n",
        "plt.subplot(1, 2, 1)  # 1행 2열 중 첫 번째 그래프\n",
        "plt.plot(epochs, train_losses, label='Train Loss',marker='^')\n",
        "plt.plot(epochs, test_losses, label='Test Loss',marker='^')\n",
        "plt.title('Loss')\n",
        "plt.xlabel('Epoch')\n",
        "plt.ylabel('Loss')\n",
        "plt.legend()\n",
        "\n",
        "# 두 번째 그래프\n",
        "plt.subplot(1, 2, 2)  # 1행 2열 중 두 번째 그래프\n",
        "plt.plot(epochs, train_accuracies, label='Train Accuracy',marker='^')\n",
        "plt.plot(epochs, test_accuracies, label='Test Accuracy',marker='^')\n",
        "plt.title('Accuracy')\n",
        "plt.xlabel('Epoch')\n",
        "plt.ylabel('Accuracy')\n",
        "plt.legend()\n",
        "\n",
        "plt.show()"
      ]
    }
  ],
  "metadata": {
    "accelerator": "GPU",
    "colab": {
      "gpuType": "T4",
      "provenance": []
    },
    "kernelspec": {
      "display_name": "Python 3",
      "name": "python3"
    },
    "language_info": {
      "name": "python"
    }
  },
  "nbformat": 4,
  "nbformat_minor": 0
}